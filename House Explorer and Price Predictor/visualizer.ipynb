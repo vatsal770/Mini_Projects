{
 "cells": [
  {
   "cell_type": "markdown",
   "id": "ce1e16d6",
   "metadata": {},
   "source": [
    "**Importing necessary libraries**"
   ]
  },
  {
   "cell_type": "code",
   "execution_count": 1,
   "id": "24b0d0a0",
   "metadata": {},
   "outputs": [],
   "source": [
    "import pandas as pd\n",
    "import numpy as np\n",
    "import matplotlib.pyplot as plt\n",
    "import seaborn as sns \n",
    "from sklearn.linear_model import LinearRegression\n",
    "from sklearn.preprocessing import PolynomialFeatures\n",
    "from sklearn.linear_model import Ridge\n",
    "from sklearn.ensemble import RandomForestRegressor\n",
    "from sklearn.model_selection import train_test_split\n",
    "from sklearn import metrics"
   ]
  },
  {
   "cell_type": "markdown",
   "id": "e72b746b",
   "metadata": {},
   "source": [
    "**Loading the dataset**"
   ]
  },
  {
   "cell_type": "code",
   "execution_count": 2,
   "id": "65ff1e3e",
   "metadata": {},
   "outputs": [],
   "source": [
    "def load_data():\n",
    "    \n",
    "    df = pd.read_csv(\"House Explorer and Price Predictor/house_dataset.csv\")\n",
    "\n",
    "    # Drop missing and malformed data\n",
    "    df.dropna(subset=['TARGET(PRICE_IN_LACS)', 'SQUARE_FT', 'ADDRESS', 'BHK_NO.'], inplace=True)\n",
    "\n",
    "    return df\n",
    "\n",
    "df = load_data()"
   ]
  },
  {
   "cell_type": "code",
   "execution_count": 3,
   "id": "cf36b0f2",
   "metadata": {},
   "outputs": [
    {
     "data": {
      "text/html": [
       "<div>\n",
       "<style scoped>\n",
       "    .dataframe tbody tr th:only-of-type {\n",
       "        vertical-align: middle;\n",
       "    }\n",
       "\n",
       "    .dataframe tbody tr th {\n",
       "        vertical-align: top;\n",
       "    }\n",
       "\n",
       "    .dataframe thead th {\n",
       "        text-align: right;\n",
       "    }\n",
       "</style>\n",
       "<table border=\"1\" class=\"dataframe\">\n",
       "  <thead>\n",
       "    <tr style=\"text-align: right;\">\n",
       "      <th></th>\n",
       "      <th>POSTED_BY</th>\n",
       "      <th>UNDER_CONSTRUCTION</th>\n",
       "      <th>RERA</th>\n",
       "      <th>BHK_NO.</th>\n",
       "      <th>BHK_OR_RK</th>\n",
       "      <th>SQUARE_FT</th>\n",
       "      <th>READY_TO_MOVE</th>\n",
       "      <th>RESALE</th>\n",
       "      <th>ADDRESS</th>\n",
       "      <th>LONGITUDE</th>\n",
       "      <th>LATITUDE</th>\n",
       "      <th>TARGET(PRICE_IN_LACS)</th>\n",
       "    </tr>\n",
       "  </thead>\n",
       "  <tbody>\n",
       "    <tr>\n",
       "      <th>0</th>\n",
       "      <td>Owner</td>\n",
       "      <td>0</td>\n",
       "      <td>0</td>\n",
       "      <td>2</td>\n",
       "      <td>BHK</td>\n",
       "      <td>1300.236407</td>\n",
       "      <td>1</td>\n",
       "      <td>1</td>\n",
       "      <td>Ksfc Layout,Bangalore</td>\n",
       "      <td>12.969910</td>\n",
       "      <td>77.597960</td>\n",
       "      <td>55.0</td>\n",
       "    </tr>\n",
       "    <tr>\n",
       "      <th>1</th>\n",
       "      <td>Dealer</td>\n",
       "      <td>0</td>\n",
       "      <td>0</td>\n",
       "      <td>2</td>\n",
       "      <td>BHK</td>\n",
       "      <td>1275.000000</td>\n",
       "      <td>1</td>\n",
       "      <td>1</td>\n",
       "      <td>Vishweshwara Nagar,Mysore</td>\n",
       "      <td>12.274538</td>\n",
       "      <td>76.644605</td>\n",
       "      <td>51.0</td>\n",
       "    </tr>\n",
       "    <tr>\n",
       "      <th>2</th>\n",
       "      <td>Owner</td>\n",
       "      <td>0</td>\n",
       "      <td>0</td>\n",
       "      <td>2</td>\n",
       "      <td>BHK</td>\n",
       "      <td>933.159722</td>\n",
       "      <td>1</td>\n",
       "      <td>1</td>\n",
       "      <td>Jigani,Bangalore</td>\n",
       "      <td>12.778033</td>\n",
       "      <td>77.632191</td>\n",
       "      <td>43.0</td>\n",
       "    </tr>\n",
       "    <tr>\n",
       "      <th>3</th>\n",
       "      <td>Owner</td>\n",
       "      <td>0</td>\n",
       "      <td>1</td>\n",
       "      <td>2</td>\n",
       "      <td>BHK</td>\n",
       "      <td>929.921143</td>\n",
       "      <td>1</td>\n",
       "      <td>1</td>\n",
       "      <td>Sector-1 Vaishali,Ghaziabad</td>\n",
       "      <td>28.642300</td>\n",
       "      <td>77.344500</td>\n",
       "      <td>62.5</td>\n",
       "    </tr>\n",
       "    <tr>\n",
       "      <th>4</th>\n",
       "      <td>Dealer</td>\n",
       "      <td>1</td>\n",
       "      <td>0</td>\n",
       "      <td>2</td>\n",
       "      <td>BHK</td>\n",
       "      <td>999.009247</td>\n",
       "      <td>0</td>\n",
       "      <td>1</td>\n",
       "      <td>New Town,Kolkata</td>\n",
       "      <td>22.592200</td>\n",
       "      <td>88.484911</td>\n",
       "      <td>60.5</td>\n",
       "    </tr>\n",
       "    <tr>\n",
       "      <th>5</th>\n",
       "      <td>Owner</td>\n",
       "      <td>0</td>\n",
       "      <td>0</td>\n",
       "      <td>3</td>\n",
       "      <td>BHK</td>\n",
       "      <td>1250.000000</td>\n",
       "      <td>1</td>\n",
       "      <td>1</td>\n",
       "      <td>South Chittoor,Kochi</td>\n",
       "      <td>10.033280</td>\n",
       "      <td>76.282571</td>\n",
       "      <td>42.0</td>\n",
       "    </tr>\n",
       "    <tr>\n",
       "      <th>6</th>\n",
       "      <td>Dealer</td>\n",
       "      <td>0</td>\n",
       "      <td>0</td>\n",
       "      <td>3</td>\n",
       "      <td>BHK</td>\n",
       "      <td>1495.053957</td>\n",
       "      <td>1</td>\n",
       "      <td>1</td>\n",
       "      <td>Sodala,Jaipur</td>\n",
       "      <td>26.916347</td>\n",
       "      <td>75.795600</td>\n",
       "      <td>66.5</td>\n",
       "    </tr>\n",
       "    <tr>\n",
       "      <th>7</th>\n",
       "      <td>Owner</td>\n",
       "      <td>0</td>\n",
       "      <td>1</td>\n",
       "      <td>3</td>\n",
       "      <td>BHK</td>\n",
       "      <td>1181.012946</td>\n",
       "      <td>1</td>\n",
       "      <td>1</td>\n",
       "      <td>Kharar,Mohali</td>\n",
       "      <td>30.740000</td>\n",
       "      <td>76.650000</td>\n",
       "      <td>52.0</td>\n",
       "    </tr>\n",
       "    <tr>\n",
       "      <th>8</th>\n",
       "      <td>Dealer</td>\n",
       "      <td>0</td>\n",
       "      <td>1</td>\n",
       "      <td>2</td>\n",
       "      <td>BHK</td>\n",
       "      <td>1040.000000</td>\n",
       "      <td>1</td>\n",
       "      <td>1</td>\n",
       "      <td>Bileshivale,Bangalore</td>\n",
       "      <td>13.054202</td>\n",
       "      <td>77.674002</td>\n",
       "      <td>41.6</td>\n",
       "    </tr>\n",
       "    <tr>\n",
       "      <th>9</th>\n",
       "      <td>Owner</td>\n",
       "      <td>0</td>\n",
       "      <td>1</td>\n",
       "      <td>2</td>\n",
       "      <td>BHK</td>\n",
       "      <td>879.120879</td>\n",
       "      <td>1</td>\n",
       "      <td>1</td>\n",
       "      <td>Chromepet,Chennai</td>\n",
       "      <td>12.951610</td>\n",
       "      <td>80.140970</td>\n",
       "      <td>36.0</td>\n",
       "    </tr>\n",
       "  </tbody>\n",
       "</table>\n",
       "</div>"
      ],
      "text/plain": [
       "  POSTED_BY  UNDER_CONSTRUCTION  RERA  BHK_NO. BHK_OR_RK    SQUARE_FT  \\\n",
       "0     Owner                   0     0        2       BHK  1300.236407   \n",
       "1    Dealer                   0     0        2       BHK  1275.000000   \n",
       "2     Owner                   0     0        2       BHK   933.159722   \n",
       "3     Owner                   0     1        2       BHK   929.921143   \n",
       "4    Dealer                   1     0        2       BHK   999.009247   \n",
       "5     Owner                   0     0        3       BHK  1250.000000   \n",
       "6    Dealer                   0     0        3       BHK  1495.053957   \n",
       "7     Owner                   0     1        3       BHK  1181.012946   \n",
       "8    Dealer                   0     1        2       BHK  1040.000000   \n",
       "9     Owner                   0     1        2       BHK   879.120879   \n",
       "\n",
       "   READY_TO_MOVE  RESALE                      ADDRESS  LONGITUDE   LATITUDE  \\\n",
       "0              1       1        Ksfc Layout,Bangalore  12.969910  77.597960   \n",
       "1              1       1    Vishweshwara Nagar,Mysore  12.274538  76.644605   \n",
       "2              1       1             Jigani,Bangalore  12.778033  77.632191   \n",
       "3              1       1  Sector-1 Vaishali,Ghaziabad  28.642300  77.344500   \n",
       "4              0       1             New Town,Kolkata  22.592200  88.484911   \n",
       "5              1       1         South Chittoor,Kochi  10.033280  76.282571   \n",
       "6              1       1                Sodala,Jaipur  26.916347  75.795600   \n",
       "7              1       1                Kharar,Mohali  30.740000  76.650000   \n",
       "8              1       1        Bileshivale,Bangalore  13.054202  77.674002   \n",
       "9              1       1            Chromepet,Chennai  12.951610  80.140970   \n",
       "\n",
       "   TARGET(PRICE_IN_LACS)  \n",
       "0                   55.0  \n",
       "1                   51.0  \n",
       "2                   43.0  \n",
       "3                   62.5  \n",
       "4                   60.5  \n",
       "5                   42.0  \n",
       "6                   66.5  \n",
       "7                   52.0  \n",
       "8                   41.6  \n",
       "9                   36.0  "
      ]
     },
     "execution_count": 3,
     "metadata": {},
     "output_type": "execute_result"
    }
   ],
   "source": [
    "df[:10]"
   ]
  },
  {
   "cell_type": "code",
   "execution_count": 4,
   "id": "c01901da",
   "metadata": {
    "scrolled": true
   },
   "outputs": [
    {
     "name": "stdout",
     "output_type": "stream",
     "text": [
      "POSTED_BY\n",
      "UNDER_CONSTRUCTION\n",
      "RERA\n",
      "BHK_NO.\n",
      "BHK_OR_RK\n",
      "SQUARE_FT\n",
      "READY_TO_MOVE\n",
      "RESALE\n",
      "ADDRESS\n",
      "LONGITUDE\n",
      "LATITUDE\n",
      "TARGET(PRICE_IN_LACS)\n"
     ]
    }
   ],
   "source": [
    "for col in df.columns:\n",
    "    print(col)"
   ]
  },
  {
   "cell_type": "markdown",
   "id": "64cf3554",
   "metadata": {},
   "source": [
    " "
   ]
  },
  {
   "cell_type": "markdown",
   "id": "1699ed19",
   "metadata": {},
   "source": [
    "**Extract Particular Cities from the Address**"
   ]
  },
  {
   "cell_type": "code",
   "execution_count": 5,
   "id": "ce7614f7",
   "metadata": {},
   "outputs": [],
   "source": [
    "# Extracting City out of the given Address is a good idea to make it easier for the users to explore or predict the house price\n",
    "\n",
    "# Extract city from address\n",
    "df['CITY'] = df['ADDRESS'].apply(lambda x: x.strip().split(',')[-1].strip())  # to extract the stripped string present after the last 'comma' in the Address"
   ]
  },
  {
   "cell_type": "code",
   "execution_count": 6,
   "id": "2aab56a1",
   "metadata": {},
   "outputs": [
    {
     "data": {
      "text/plain": [
       "0    Bangalore\n",
       "1       Mysore\n",
       "2    Bangalore\n",
       "3    Ghaziabad\n",
       "4      Kolkata\n",
       "5        Kochi\n",
       "6       Jaipur\n",
       "7       Mohali\n",
       "8    Bangalore\n",
       "9      Chennai\n",
       "Name: CITY, dtype: object"
      ]
     },
     "execution_count": 6,
     "metadata": {},
     "output_type": "execute_result"
    }
   ],
   "source": [
    "df[\"CITY\"][:10]"
   ]
  },
  {
   "cell_type": "code",
   "execution_count": 7,
   "id": "c40916ae",
   "metadata": {},
   "outputs": [
    {
     "name": "stdout",
     "output_type": "stream",
     "text": [
      " Toal number of Unique Cities: 256\n"
     ]
    }
   ],
   "source": [
    "print(f' Toal number of Unique Cities: {len(df[\"CITY\"].unique())}')"
   ]
  },
  {
   "cell_type": "markdown",
   "id": "9e0d6eea",
   "metadata": {},
   "source": [
    " "
   ]
  },
  {
   "cell_type": "markdown",
   "id": "7efbb272",
   "metadata": {},
   "source": [
    "**Removing duplicate entries from the data**"
   ]
  },
  {
   "cell_type": "code",
   "execution_count": 8,
   "id": "1c186f50",
   "metadata": {},
   "outputs": [
    {
     "name": "stdout",
     "output_type": "stream",
     "text": [
      "Found 27 matching houses:\n"
     ]
    },
    {
     "data": {
      "text/html": [
       "<div>\n",
       "<style scoped>\n",
       "    .dataframe tbody tr th:only-of-type {\n",
       "        vertical-align: middle;\n",
       "    }\n",
       "\n",
       "    .dataframe tbody tr th {\n",
       "        vertical-align: top;\n",
       "    }\n",
       "\n",
       "    .dataframe thead th {\n",
       "        text-align: right;\n",
       "    }\n",
       "</style>\n",
       "<table border=\"1\" class=\"dataframe\">\n",
       "  <thead>\n",
       "    <tr style=\"text-align: right;\">\n",
       "      <th></th>\n",
       "      <th>ADDRESS</th>\n",
       "      <th>BHK_NO.</th>\n",
       "      <th>SQUARE_FT</th>\n",
       "      <th>TARGET(PRICE_IN_LACS)</th>\n",
       "      <th>CITY</th>\n",
       "    </tr>\n",
       "  </thead>\n",
       "  <tbody>\n",
       "    <tr>\n",
       "      <th>2586</th>\n",
       "      <td>Sikandra,Agra</td>\n",
       "      <td>2</td>\n",
       "      <td>858.252427</td>\n",
       "      <td>22.1</td>\n",
       "      <td>Agra</td>\n",
       "    </tr>\n",
       "    <tr>\n",
       "      <th>4196</th>\n",
       "      <td>Fatehabad Road,Agra</td>\n",
       "      <td>2</td>\n",
       "      <td>686.988171</td>\n",
       "      <td>15.1</td>\n",
       "      <td>Agra</td>\n",
       "    </tr>\n",
       "    <tr>\n",
       "      <th>5177</th>\n",
       "      <td>Shastripuram,Agra</td>\n",
       "      <td>2</td>\n",
       "      <td>1250.000000</td>\n",
       "      <td>27.9</td>\n",
       "      <td>Agra</td>\n",
       "    </tr>\n",
       "    <tr>\n",
       "      <th>5304</th>\n",
       "      <td>Shastripuram,Agra</td>\n",
       "      <td>2</td>\n",
       "      <td>1250.000000</td>\n",
       "      <td>27.9</td>\n",
       "      <td>Agra</td>\n",
       "    </tr>\n",
       "    <tr>\n",
       "      <th>5577</th>\n",
       "      <td>Shastripuram,Agra</td>\n",
       "      <td>2</td>\n",
       "      <td>1250.000000</td>\n",
       "      <td>27.9</td>\n",
       "      <td>Agra</td>\n",
       "    </tr>\n",
       "    <tr>\n",
       "      <th>5684</th>\n",
       "      <td>Kedar Nagar,Agra</td>\n",
       "      <td>2</td>\n",
       "      <td>582.382207</td>\n",
       "      <td>19.9</td>\n",
       "      <td>Agra</td>\n",
       "    </tr>\n",
       "    <tr>\n",
       "      <th>8628</th>\n",
       "      <td>Shastripuram,Agra</td>\n",
       "      <td>2</td>\n",
       "      <td>1124.236253</td>\n",
       "      <td>27.6</td>\n",
       "      <td>Agra</td>\n",
       "    </tr>\n",
       "    <tr>\n",
       "      <th>9416</th>\n",
       "      <td>Shastripuram,Agra</td>\n",
       "      <td>2</td>\n",
       "      <td>1250.000000</td>\n",
       "      <td>27.9</td>\n",
       "      <td>Agra</td>\n",
       "    </tr>\n",
       "    <tr>\n",
       "      <th>9522</th>\n",
       "      <td>Nikhil Woodland, Sikandara,Agra</td>\n",
       "      <td>2</td>\n",
       "      <td>1100.196464</td>\n",
       "      <td>28.0</td>\n",
       "      <td>Agra</td>\n",
       "    </tr>\n",
       "    <tr>\n",
       "      <th>10091</th>\n",
       "      <td>Pratap Nagar,Agra</td>\n",
       "      <td>2</td>\n",
       "      <td>9677.419355</td>\n",
       "      <td>15.0</td>\n",
       "      <td>Agra</td>\n",
       "    </tr>\n",
       "  </tbody>\n",
       "</table>\n",
       "</div>"
      ],
      "text/plain": [
       "                               ADDRESS  BHK_NO.    SQUARE_FT  \\\n",
       "2586                     Sikandra,Agra        2   858.252427   \n",
       "4196               Fatehabad Road,Agra        2   686.988171   \n",
       "5177                 Shastripuram,Agra        2  1250.000000   \n",
       "5304                 Shastripuram,Agra        2  1250.000000   \n",
       "5577                 Shastripuram,Agra        2  1250.000000   \n",
       "5684                  Kedar Nagar,Agra        2   582.382207   \n",
       "8628                 Shastripuram,Agra        2  1124.236253   \n",
       "9416                 Shastripuram,Agra        2  1250.000000   \n",
       "9522   Nikhil Woodland, Sikandara,Agra        2  1100.196464   \n",
       "10091                Pratap Nagar,Agra        2  9677.419355   \n",
       "\n",
       "       TARGET(PRICE_IN_LACS)  CITY  \n",
       "2586                    22.1  Agra  \n",
       "4196                    15.1  Agra  \n",
       "5177                    27.9  Agra  \n",
       "5304                    27.9  Agra  \n",
       "5577                    27.9  Agra  \n",
       "5684                    19.9  Agra  \n",
       "8628                    27.6  Agra  \n",
       "9416                    27.9  Agra  \n",
       "9522                    28.0  Agra  \n",
       "10091                   15.0  Agra  "
      ]
     },
     "execution_count": 8,
     "metadata": {},
     "output_type": "execute_result"
    }
   ],
   "source": [
    "city = 'Agra'\n",
    "bhk = 2\n",
    "area = [500, int(df['SQUARE_FT'].max())]\n",
    "price_range = [0, 30]\n",
    "\n",
    "filtered_df = df[\n",
    "    (df['CITY'] == city) &\n",
    "    (df['BHK_NO.'] == bhk) &\n",
    "    (df['SQUARE_FT'] >= area[0]) & (df['SQUARE_FT'] <= area[1]) &\n",
    "    (df['TARGET(PRICE_IN_LACS)'] >= price_range[0]) & (df['TARGET(PRICE_IN_LACS)'] <= price_range[1])\n",
    "]\n",
    "\n",
    "print(f\"Found {len(filtered_df)} matching houses:\")\n",
    "filtered_df[['ADDRESS', 'BHK_NO.', 'SQUARE_FT', 'TARGET(PRICE_IN_LACS)', 'CITY']].head(10)"
   ]
  },
  {
   "cell_type": "code",
   "execution_count": 9,
   "id": "80c2ba54",
   "metadata": {},
   "outputs": [],
   "source": [
    "# We can see in the above dataframe that the 3rd, 4th, 5th and the 8th entry are exactly the same\n",
    "# Therefore these duplicate entries needs to be removed\n",
    "\n",
    "# Drop particular columns as it contains duplicate data\n",
    "df.drop(columns=['POSTED_BY','UNDER_CONSTRUCTION','RERA'], inplace=True)\n",
    "\n",
    "# Remove exact duplicate rows\n",
    "df.drop_duplicates(inplace=True)"
   ]
  },
  {
   "cell_type": "code",
   "execution_count": 10,
   "id": "c9ec4928",
   "metadata": {},
   "outputs": [
    {
     "name": "stdout",
     "output_type": "stream",
     "text": [
      "Found 23 matching houses:\n"
     ]
    },
    {
     "data": {
      "text/html": [
       "<div>\n",
       "<style scoped>\n",
       "    .dataframe tbody tr th:only-of-type {\n",
       "        vertical-align: middle;\n",
       "    }\n",
       "\n",
       "    .dataframe tbody tr th {\n",
       "        vertical-align: top;\n",
       "    }\n",
       "\n",
       "    .dataframe thead th {\n",
       "        text-align: right;\n",
       "    }\n",
       "</style>\n",
       "<table border=\"1\" class=\"dataframe\">\n",
       "  <thead>\n",
       "    <tr style=\"text-align: right;\">\n",
       "      <th></th>\n",
       "      <th>ADDRESS</th>\n",
       "      <th>BHK_NO.</th>\n",
       "      <th>SQUARE_FT</th>\n",
       "      <th>TARGET(PRICE_IN_LACS)</th>\n",
       "      <th>CITY</th>\n",
       "    </tr>\n",
       "  </thead>\n",
       "  <tbody>\n",
       "    <tr>\n",
       "      <th>2586</th>\n",
       "      <td>Sikandra,Agra</td>\n",
       "      <td>2</td>\n",
       "      <td>858.252427</td>\n",
       "      <td>22.1</td>\n",
       "      <td>Agra</td>\n",
       "    </tr>\n",
       "    <tr>\n",
       "      <th>4196</th>\n",
       "      <td>Fatehabad Road,Agra</td>\n",
       "      <td>2</td>\n",
       "      <td>686.988171</td>\n",
       "      <td>15.1</td>\n",
       "      <td>Agra</td>\n",
       "    </tr>\n",
       "    <tr>\n",
       "      <th>5177</th>\n",
       "      <td>Shastripuram,Agra</td>\n",
       "      <td>2</td>\n",
       "      <td>1250.000000</td>\n",
       "      <td>27.9</td>\n",
       "      <td>Agra</td>\n",
       "    </tr>\n",
       "    <tr>\n",
       "      <th>5684</th>\n",
       "      <td>Kedar Nagar,Agra</td>\n",
       "      <td>2</td>\n",
       "      <td>582.382207</td>\n",
       "      <td>19.9</td>\n",
       "      <td>Agra</td>\n",
       "    </tr>\n",
       "    <tr>\n",
       "      <th>8628</th>\n",
       "      <td>Shastripuram,Agra</td>\n",
       "      <td>2</td>\n",
       "      <td>1124.236253</td>\n",
       "      <td>27.6</td>\n",
       "      <td>Agra</td>\n",
       "    </tr>\n",
       "    <tr>\n",
       "      <th>9522</th>\n",
       "      <td>Nikhil Woodland, Sikandara,Agra</td>\n",
       "      <td>2</td>\n",
       "      <td>1100.196464</td>\n",
       "      <td>28.0</td>\n",
       "      <td>Agra</td>\n",
       "    </tr>\n",
       "    <tr>\n",
       "      <th>10091</th>\n",
       "      <td>Pratap Nagar,Agra</td>\n",
       "      <td>2</td>\n",
       "      <td>9677.419355</td>\n",
       "      <td>15.0</td>\n",
       "      <td>Agra</td>\n",
       "    </tr>\n",
       "    <tr>\n",
       "      <th>10258</th>\n",
       "      <td>Sashtripuram,Agra</td>\n",
       "      <td>2</td>\n",
       "      <td>950.118765</td>\n",
       "      <td>16.0</td>\n",
       "      <td>Agra</td>\n",
       "    </tr>\n",
       "    <tr>\n",
       "      <th>10755</th>\n",
       "      <td>Sikandra Bodla Road,Agra</td>\n",
       "      <td>2</td>\n",
       "      <td>980.049003</td>\n",
       "      <td>28.0</td>\n",
       "      <td>Agra</td>\n",
       "    </tr>\n",
       "    <tr>\n",
       "      <th>13379</th>\n",
       "      <td>Sikandra,Agra</td>\n",
       "      <td>2</td>\n",
       "      <td>900.423729</td>\n",
       "      <td>17.0</td>\n",
       "      <td>Agra</td>\n",
       "    </tr>\n",
       "  </tbody>\n",
       "</table>\n",
       "</div>"
      ],
      "text/plain": [
       "                               ADDRESS  BHK_NO.    SQUARE_FT  \\\n",
       "2586                     Sikandra,Agra        2   858.252427   \n",
       "4196               Fatehabad Road,Agra        2   686.988171   \n",
       "5177                 Shastripuram,Agra        2  1250.000000   \n",
       "5684                  Kedar Nagar,Agra        2   582.382207   \n",
       "8628                 Shastripuram,Agra        2  1124.236253   \n",
       "9522   Nikhil Woodland, Sikandara,Agra        2  1100.196464   \n",
       "10091                Pratap Nagar,Agra        2  9677.419355   \n",
       "10258                Sashtripuram,Agra        2   950.118765   \n",
       "10755         Sikandra Bodla Road,Agra        2   980.049003   \n",
       "13379                    Sikandra,Agra        2   900.423729   \n",
       "\n",
       "       TARGET(PRICE_IN_LACS)  CITY  \n",
       "2586                    22.1  Agra  \n",
       "4196                    15.1  Agra  \n",
       "5177                    27.9  Agra  \n",
       "5684                    19.9  Agra  \n",
       "8628                    27.6  Agra  \n",
       "9522                    28.0  Agra  \n",
       "10091                   15.0  Agra  \n",
       "10258                   16.0  Agra  \n",
       "10755                   28.0  Agra  \n",
       "13379                   17.0  Agra  "
      ]
     },
     "execution_count": 10,
     "metadata": {},
     "output_type": "execute_result"
    }
   ],
   "source": [
    "city = 'Agra'\n",
    "bhk = 2\n",
    "area = [500, int(df['SQUARE_FT'].max())]\n",
    "price_range = [0, 30]\n",
    "\n",
    "filtered_df = df[\n",
    "    (df['CITY'] == city) &\n",
    "    (df['BHK_NO.'] == bhk) &\n",
    "    (df['SQUARE_FT'] >= area[0]) & (df['SQUARE_FT'] <= area[1]) &\n",
    "    (df['TARGET(PRICE_IN_LACS)'] >= price_range[0]) & (df['TARGET(PRICE_IN_LACS)'] <= price_range[1])\n",
    "]\n",
    "\n",
    "print(f\"Found {len(filtered_df)} matching houses:\")\n",
    "filtered_df[['ADDRESS', 'BHK_NO.', 'SQUARE_FT', 'TARGET(PRICE_IN_LACS)', 'CITY']].head(10)"
   ]
  },
  {
   "cell_type": "markdown",
   "id": "f3168340",
   "metadata": {},
   "source": [
    " "
   ]
  },
  {
   "cell_type": "markdown",
   "id": "a26beffe",
   "metadata": {},
   "source": [
    "**Visualizing the data**"
   ]
  },
  {
   "cell_type": "code",
   "execution_count": 11,
   "id": "5d71c1cb",
   "metadata": {},
   "outputs": [
    {
     "data": {
      "image/png": "[encoded data removed]",
      "text/plain": [
       "<Figure size 640x480 with 1 Axes>"
      ]
     },
     "metadata": {},
     "output_type": "display_data"
    }
   ],
   "source": [
    "# Extract the most important columns\n",
    "area_sqft = df[\"SQUARE_FT\"].values\n",
    "bhk_count = df[\"BHK_NO.\"].values\n",
    "house_price = df[\"TARGET(PRICE_IN_LACS)\"].values\n",
    "\n",
    "# Creating a regression plot\n",
    "sns.regplot(\n",
    "    x=area_sqft,\n",
    "    y=house_price,\n",
    "    scatter_kws={'color':'b','s':10}, # to make a scatter_plot with color=blue and dot_size of 10 (medium)\n",
    "    ci=None  # determines size of confidence for regression estimates. Generally avoided with Large datasets\n",
    ")\n",
    "\n",
    "plt.title(\"House Area v/s Price\", fontsize=14)\n",
    "plt.xlabel(\"House Area (sq_ft)\", fontsize=12)\n",
    "plt.ylabel(\"Price (Lacs)\", fontsize=12)\n",
    "\n",
    "# Show plot\n",
    "plt.tight_layout()\n",
    "plt.show()"
   ]
  },
  {
   "cell_type": "markdown",
   "id": "c6a2701e",
   "metadata": {},
   "source": [
    " "
   ]
  },
  {
   "cell_type": "markdown",
   "id": "f7d9b56b",
   "metadata": {},
   "source": [
    "**Removing the Outliers**"
   ]
  },
  {
   "cell_type": "code",
   "execution_count": 12,
   "id": "015625a1",
   "metadata": {},
   "outputs": [],
   "source": [
    "# We have to remove the outliers as it can be seen that some data is purely unrealistic and influencing the regression badly\n",
    "\n",
    "# Filter out rows with extremely high prices (price < 600 lacs)\n",
    "df = df[df['TARGET(PRICE_IN_LACS)'] < 600]\n",
    "\n",
    " # Filter out rows with unrealistic number of bedrooms (bhk < 10)\n",
    "df = df[df['BHK_NO.'] < 10]\n",
    "\n",
    "# Filter out rows with extremely high land_area (area < 6000 sq_ft)\n",
    "df = df[df['SQUARE_FT'] < 6000]"
   ]
  },
  {
   "cell_type": "code",
   "execution_count": 13,
   "id": "f00b94ce",
   "metadata": {},
   "outputs": [
    {
     "data": {
      "image/png": "[encoded data removed]",
      "text/plain": [
       "<Figure size 640x480 with 1 Axes>"
      ]
     },
     "metadata": {},
     "output_type": "display_data"
    }
   ],
   "source": [
    "# Extract the most important columns\n",
    "area_sqft = df[\"SQUARE_FT\"].values\n",
    "bhk_count = df[\"BHK_NO.\"].values\n",
    "house_price = df[\"TARGET(PRICE_IN_LACS)\"].values\n",
    "\n",
    "# Creating a regression plot\n",
    "sns.regplot(\n",
    "    x=area_sqft,\n",
    "    y=house_price,\n",
    "    scatter_kws={'color':'b','s':10}, # to make a scatter_plot with color=blue and dot_size of 10 (medium)\n",
    "    ci=None  # determines size of confidence for regression estimates. Generally avoided with Large datasets\n",
    ")\n",
    "\n",
    "plt.title(\"House Area v/s Price\", fontsize=14)\n",
    "plt.xlabel(\"House Area (sq_ft)\", fontsize=12)\n",
    "plt.ylabel(\"Price (Lacs)\", fontsize=12)\n",
    "\n",
    "# Show plot\n",
    "plt.tight_layout()\n",
    "plt.show()"
   ]
  },
  {
   "cell_type": "markdown",
   "id": "9ce06f53",
   "metadata": {},
   "source": [
    " "
   ]
  },
  {
   "cell_type": "markdown",
   "id": "006ae6dd",
   "metadata": {},
   "source": [
    "**Linear Regression**"
   ]
  },
  {
   "cell_type": "code",
   "execution_count": 14,
   "id": "1f7950e3",
   "metadata": {},
   "outputs": [
    {
     "name": "stdout",
     "output_type": "stream",
     "text": [
      "intercept: -6.998361096540663\n",
      "coef: [4.677954   0.06487589]\n",
      "RScore: 0.30963861887220445\n",
      "MAE: 44.37285470601695\n"
     ]
    }
   ],
   "source": [
    "# Features and target\n",
    "X = df[['BHK_NO.', 'SQUARE_FT']]\n",
    "y = df['TARGET(PRICE_IN_LACS)']  \n",
    "\n",
    "# Split the dataset\n",
    "X_train,X_test,y_train,y_test = train_test_split(X, y, test_size=0.2, random_state=1)\n",
    "\n",
    "# Applying Linear regression with two features, bhk_count and sq_ft area\n",
    "linear_regression = LinearRegression()\n",
    "\n",
    "# Training the linear regression model\n",
    "model = linear_regression.fit(X_train,y_train)\n",
    "output = model.predict(X_test)\n",
    "\n",
    "# Print metrics             \n",
    "print(\"intercept:\",model.intercept_)\n",
    "print(\"coef:\",model.coef_)\n",
    "print(\"RScore:\",metrics.r2_score(y_test,output))\n",
    "print(\"MAE:\",metrics.mean_absolute_error(y_test,output))"
   ]
  },
  {
   "cell_type": "code",
   "execution_count": 15,
   "id": "36a1d147",
   "metadata": {},
   "outputs": [
    {
     "data": {
      "image/png": "[encoded data removed]",
      "text/plain": [
       "<Figure size 640x480 with 1 Axes>"
      ]
     },
     "metadata": {},
     "output_type": "display_data"
    },
    {
     "name": "stdout",
     "output_type": "stream",
     "text": [
      "intercept: -42.83401633644961\n",
      "coef: [-7.40778264  0.10882536]\n",
      "RScore: 0.7469793020767708\n",
      "MAE: 24.054469162055494\n"
     ]
    }
   ],
   "source": [
    "input_city = 'Bangalore'\n",
    "\n",
    "new_df = df[df['CITY'] == input_city].copy()\n",
    "\n",
    "# get the lists of the important columns\n",
    "area_sqft = list(new_df['SQUARE_FT'])\n",
    "bhk_count = list(new_df['BHK_NO.'])\n",
    "house_price = list(new_df['TARGET(PRICE_IN_LACS)'])\n",
    "\n",
    "# Creating a regression plot\n",
    "sns.regplot(\n",
    "    x=area_sqft,\n",
    "    y=house_price,\n",
    "    scatter_kws={'color':'b','s':10}, #\n",
    "    ci=None  # \n",
    ")\n",
    "\n",
    "plt.title(\"House Area v/s Price\", fontsize=14)\n",
    "plt.xlabel(\"House Area (sq_ft)\", fontsize=12)\n",
    "plt.ylabel(\"Price (Lacs)\", fontsize=12)\n",
    "plt.tight_layout()\n",
    "plt.show()\n",
    "\n",
    "# Features and target\n",
    "X = new_df[['BHK_NO.', 'SQUARE_FT']]\n",
    "y = new_df['TARGET(PRICE_IN_LACS)']  \n",
    "\n",
    "# Split the dataset\n",
    "X_train,X_test,y_train,y_test = train_test_split(X, y, test_size=0.2, random_state=1)\n",
    "\n",
    "# Applying Linear regression with two features, bhk_count and sq_ft area\n",
    "linear_regression = LinearRegression()\n",
    "\n",
    "# Training the linear regression model\n",
    "model = linear_regression.fit(X_train,y_train)\n",
    "output = model.predict(X_test)\n",
    "\n",
    "# Print metrics             \n",
    "print(\"intercept:\",model.intercept_)\n",
    "print(\"coef:\",model.coef_)\n",
    "print(\"RScore:\",metrics.r2_score(y_test,output))\n",
    "print(\"MAE:\",metrics.mean_absolute_error(y_test,output))"
   ]
  },
  {
   "cell_type": "markdown",
   "id": "6bb5a808",
   "metadata": {},
   "source": [
    "  "
   ]
  },
  {
   "cell_type": "markdown",
   "id": "4090495a",
   "metadata": {},
   "source": [
    "**Polynomial Regression**"
   ]
  },
  {
   "cell_type": "code",
   "execution_count": 16,
   "id": "0cc2c779",
   "metadata": {},
   "outputs": [
    {
     "name": "stdout",
     "output_type": "stream",
     "text": [
      "intercept: 9.878675452103536\n",
      "coef: [ 0.00000000e+00  1.05880190e+01  2.69243718e-02 -1.84094319e+00\n",
      "  6.19624816e-03  3.94673910e-06]\n",
      "RScore: 0.3211970613317915\n",
      "MAE: 43.750495275484\n"
     ]
    }
   ],
   "source": [
    "# Features and target\n",
    "X = df[['BHK_NO.', 'SQUARE_FT']]\n",
    "y = df['TARGET(PRICE_IN_LACS)']  \n",
    "\n",
    "# It allows us to generate polynomial features \n",
    "poly = PolynomialFeatures(degree=2) \n",
    "X_poly = poly.fit_transform(X)\n",
    "\n",
    "# Split the dataset\n",
    "X_train, X_test, y_train, y_test = train_test_split(X_poly, y, test_size=0.2, random_state=1)\n",
    "\n",
    "# Training the polynomial regression model\n",
    "model = LinearRegression()\n",
    "model.fit(X_train, y_train)\n",
    "output = model.predict(X_test)\n",
    "\n",
    "# Print metrics\n",
    "print(\"intercept:\",model.intercept_)\n",
    "print(\"coef:\",model.coef_)\n",
    "print(\"RScore:\",metrics.r2_score(y_test,output))\n",
    "print(\"MAE:\",metrics.mean_absolute_error(y_test,output))"
   ]
  },
  {
   "cell_type": "code",
   "execution_count": 17,
   "id": "9f22b877",
   "metadata": {},
   "outputs": [
    {
     "name": "stdout",
     "output_type": "stream",
     "text": [
      "intercept: 0.005262638767788985\n",
      "coef: [ 0.00000000e+00 -5.18877340e+01  1.26953630e-01  4.26645152e+00\n",
      "  1.03093635e-02 -1.09462209e-05]\n",
      "RScore: 0.7445041296094692\n",
      "MAE: 24.300148130569188\n"
     ]
    }
   ],
   "source": [
    "# Features and target\n",
    "X = new_df[['BHK_NO.', 'SQUARE_FT']]\n",
    "y = new_df['TARGET(PRICE_IN_LACS)']  \n",
    "\n",
    "# It allows us to generate polynomial features \n",
    "poly = PolynomialFeatures(degree=2)  \n",
    "X_poly = poly.fit_transform(X)\n",
    "\n",
    "# Split the dataset\n",
    "X_train, X_test, y_train, y_test = train_test_split(X_poly, y, test_size=0.2, random_state=1)\n",
    "\n",
    "# Training the polynomial regression model\n",
    "model = LinearRegression()\n",
    "model.fit(X_train, y_train)\n",
    "output = model.predict(X_test)\n",
    "\n",
    "# Print metrics\n",
    "print(\"intercept:\",model.intercept_)\n",
    "print(\"coef:\",model.coef_)\n",
    "print(\"RScore:\",metrics.r2_score(y_test,output))\n",
    "print(\"MAE:\",metrics.mean_absolute_error(y_test,output))"
   ]
  },
  {
   "cell_type": "markdown",
   "id": "bf6f4f6e",
   "metadata": {},
   "source": [
    " "
   ]
  },
  {
   "cell_type": "markdown",
   "id": "ea5e7a0e",
   "metadata": {},
   "source": [
    "**Ridge Regression**"
   ]
  },
  {
   "cell_type": "code",
   "execution_count": 19,
   "id": "b14846dd",
   "metadata": {},
   "outputs": [
    {
     "name": "stdout",
     "output_type": "stream",
     "text": [
      "intercept: -6.998273870818849\n",
      "coef: [4.67787379 0.06487597]\n",
      "RScore: 0.3096386267370518\n",
      "MAE: 44.37285156378706\n"
     ]
    }
   ],
   "source": [
    "# Features and target\n",
    "X = df[['BHK_NO.', 'SQUARE_FT']]\n",
    "y = df['TARGET(PRICE_IN_LACS)']  \n",
    "\n",
    "# Split the dataset\n",
    "X_train, X_test, y_train, y_test = train_test_split(X, y, test_size=0.2, random_state=1)\n",
    "\n",
    "# Training the Ridge regression model\n",
    "ridge = Ridge(alpha = 0.1)  #\n",
    "model = ridge.fit(X_train,y_train)\n",
    "output = model.predict(X_test)\n",
    "\n",
    "# Print metrics             \n",
    "print(\"intercept:\",model.intercept_)\n",
    "print(\"coef:\",model.coef_)\n",
    "print(\"RScore:\",metrics.r2_score(y_test,output))\n",
    "print(\"MAE:\",metrics.mean_absolute_error(y_test,output))"
   ]
  },
  {
   "cell_type": "code",
   "execution_count": 20,
   "id": "22daa53a",
   "metadata": {},
   "outputs": [
    {
     "name": "stdout",
     "output_type": "stream",
     "text": [
      "intercept: -42.83536379507221\n",
      "coef: [-7.40677082  0.10882453]\n",
      "RScore: 0.7469790823383397\n",
      "MAE: 24.054503131229033\n"
     ]
    }
   ],
   "source": [
    "input_city = 'Bangalore'\n",
    "\n",
    "new_df = df[df['CITY'] == input_city].copy()\n",
    "\n",
    "# Features and target\n",
    "X = new_df[['BHK_NO.', 'SQUARE_FT']]\n",
    "y = new_df['TARGET(PRICE_IN_LACS)']  \n",
    "\n",
    "# Split the dataset\n",
    "X_train, X_test, y_train, y_test = train_test_split(X, y, test_size=0.2, random_state=1)\n",
    "\n",
    "# Training the Ridge regression model\n",
    "ridge = Ridge(alpha = 0.1)  #\n",
    "model = ridge.fit(X_train,y_train)\n",
    "output = model.predict(X_test)\n",
    "\n",
    "# Print metrics             \n",
    "print(\"intercept:\",model.intercept_)\n",
    "print(\"coef:\",model.coef_)\n",
    "print(\"RScore:\",metrics.r2_score(y_test,output))\n",
    "print(\"MAE:\",metrics.mean_absolute_error(y_test,output))"
   ]
  },
  {
   "cell_type": "markdown",
   "id": "14afbcb9",
   "metadata": {},
   "source": [
    " "
   ]
  },
  {
   "cell_type": "markdown",
   "id": "d63e87c7",
   "metadata": {},
   "source": [
    "**RandomForest Regressor**"
   ]
  },
  {
   "cell_type": "code",
   "execution_count": 21,
   "id": "5f26eae4",
   "metadata": {},
   "outputs": [
    {
     "name": "stdout",
     "output_type": "stream",
     "text": [
      "RScore: 0.26517793039520665\n",
      "MAE: 41.70128431271115\n"
     ]
    }
   ],
   "source": [
    "# Features and target\n",
    "X = df[['BHK_NO.', 'SQUARE_FT']]\n",
    "y = df['TARGET(PRICE_IN_LACS)']  \n",
    "\n",
    "# Split the dataset\n",
    "X_train, X_test, y_train, y_test = train_test_split(X, y, test_size=0.2, random_state=1)\n",
    "\n",
    "# Training the RandomForest regression model\n",
    "random_reg = RandomForestRegressor()\n",
    "model = random_reg.fit(X_train,y_train)\n",
    "output = model.predict(X_test)\n",
    "\n",
    "             \n",
    "# Print metrics             \n",
    "# print(\"intercept:\",model.intercept_)\n",
    "# print(\"coef:\",model.coef_)\n",
    "print(\"RScore:\",metrics.r2_score(y_test,output))\n",
    "print(\"MAE:\",metrics.mean_absolute_error(y_test,output))"
   ]
  },
  {
   "cell_type": "code",
   "execution_count": 22,
   "id": "f483fbde",
   "metadata": {},
   "outputs": [
    {
     "name": "stdout",
     "output_type": "stream",
     "text": [
      "RScore: 0.26442293384999904\n",
      "MAE: 41.67080169927172\n"
     ]
    }
   ],
   "source": [
    "input_city = 'Bangalore'\n",
    "\n",
    "new_df = df[df['CITY'] == input_city].copy()\n",
    "\n",
    "# Features and target\n",
    "X = df[['BHK_NO.', 'SQUARE_FT']]\n",
    "y = df['TARGET(PRICE_IN_LACS)']  \n",
    "\n",
    "# Split the dataset\n",
    "X_train, X_test, y_train, y_test = train_test_split(X, y, test_size=0.2, random_state=1)\n",
    "\n",
    "# Training the RandomForest regression model\n",
    "random_reg = RandomForestRegressor()\n",
    "model = random_reg.fit(X_train,y_train)\n",
    "output = model.predict(X_test)\n",
    "\n",
    "             \n",
    "# Print metrics             \n",
    "# print(\"intercept:\",model.intercept_)\n",
    "# print(\"coef:\",model.coef_)\n",
    "print(\"RScore:\",metrics.r2_score(y_test,output))\n",
    "print(\"MAE:\",metrics.mean_absolute_error(y_test,output))"
   ]
  },
  {
   "cell_type": "markdown",
   "id": "006d913e",
   "metadata": {},
   "source": [
    " "
   ]
  },
  {
   "cell_type": "markdown",
   "id": "ae1ccd89",
   "metadata": {},
   "source": [
    "**Hence, Linear Regression is the best among all Regression techniques, for the choosen dataset**"
   ]
  },
  {
   "cell_type": "markdown",
   "id": "c431f648",
   "metadata": {},
   "source": [
    " "
   ]
  },
  {
   "cell_type": "markdown",
   "id": "8b2431f2",
   "metadata": {},
   "source": [
    "**Example- Price Predictor**"
   ]
  },
  {
   "cell_type": "code",
   "execution_count": 23,
   "id": "13346b3a",
   "metadata": {},
   "outputs": [
    {
     "name": "stdout",
     "output_type": "stream",
     "text": [
      " Predicted Price for a house in Bangalore with 2-BHK and 900 sq_ft : 39 Lacs\n"
     ]
    }
   ],
   "source": [
    "input_city = 'Bangalore' # user input\n",
    "input_bhk = 2   # user input\n",
    "input_area = 900     # user input\n",
    "\n",
    "new_df = df[df['CITY'] == input_city].copy()\n",
    "\n",
    "# Applying 'Linear regression' model\n",
    "# Features and target\n",
    "X = new_df[['BHK_NO.', 'SQUARE_FT']]\n",
    "y = new_df['TARGET(PRICE_IN_LACS)']\n",
    "\n",
    "lm = LinearRegression()\n",
    "\n",
    "# Training the model\n",
    "lm.fit(X, y)\n",
    "\n",
    "coeffs = lm.coef_\n",
    "a1, a2 = coeffs[0], coeffs[1]\n",
    "b1 = lm.intercept_\n",
    "predicted_price = a1*input_bhk + a2*input_area + b1\n",
    "print(f' Predicted Price for a house in Bangalore with {input_bhk}-BHK and {input_area} sq_ft : {int(predicted_price)} Lacs')\n"
   ]
  }
 ],
 "metadata": {
  "kernelspec": {
   "display_name": "Python 3 (ipykernel)",
   "language": "python",
   "name": "python3"
  },
  "language_info": {
   "codemirror_mode": {
    "name": "ipython",
    "version": 3
   },
   "file_extension": ".py",
   "mimetype": "text/x-python",
   "name": "python",
   "nbconvert_exporter": "python",
   "pygments_lexer": "ipython3",
   "version": "3.11.5"
  }
 },
 "nbformat": 4,
 "nbformat_minor": 5
}
